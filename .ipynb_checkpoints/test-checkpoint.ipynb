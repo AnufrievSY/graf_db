{
 "cells": [
  {
   "cell_type": "markdown",
   "id": "7bc8d4e1",
   "metadata": {},
   "source": [
    "### Тестовое задание по графовым базам данных:\n",
    "\n",
    "1. Установить 2 графовые базы из списка DB-Engines Ranking\n",
    "    - Предпочтительные - neo4j, nebula, arangodb\n",
    "    - Предпочтительный язык запросов cypher\n",
    "2. Создать ipynb ноутбук в котором:\n",
    "3. Считать данные из источника https://disk.yandex.ru/d/s6wWqd8Ol_5IvQ\n",
    "4. Внести данные из таблицы в графовую БД\n",
    "5. Построить графовое представление в БД, осуществить несколько запросов на языке запросов к графовой БД\n",
    "6. Найти взаимосвязи визуально и с помощью алгоритмов (алгоритмы на ваше усмотрение)\n",
    "7. Написать rest сервис на python к графовой БД в котором на вход поступает ФИО, на выходе graphml или json\n",
    "8. Результаты представить на гитхаб и в виде кода + небольшой презентации\n",
    "9. Прислать ссылку на решение и резюме в телеграм @frankshikhaliev\n",
    "10. Также надо будет заполнить форму \"Стажировка datascience в Mindset (основная форма)\"\n",
    "11. Срок выполнения задания - около 10 дней, если вы не успеваете можете взять больше времени"
   ]
  },
  {
   "cell_type": "code",
   "execution_count": 2,
   "id": "62ee57ce",
   "metadata": {},
   "outputs": [
    {
     "name": "stdout",
     "output_type": "stream",
     "text": [
      "Defaulting to user installation because normal site-packages is not writeable\n",
      "Requirement already satisfied: neo4j in c:\\users\\пользователь\\appdata\\roaming\\python\\python39\\site-packages (5.6.0)\n",
      "Requirement already satisfied: pytz in c:\\users\\пользователь\\appdata\\roaming\\python\\python39\\site-packages (from neo4j) (2021.3)\n"
     ]
    }
   ],
   "source": [
    "# Загружаем данные с которыми будет работать \n",
    "import pandas as pd\n",
    "df = pd.read_csv('data_test.csv', sep = ';')\n",
    "\n",
    "# Загружаем инструмент для работы с графовыми базами данных\n",
    "!pip install neo4j\n",
    "from neo4j import GraphDatabase\n",
    "\n",
    "# Прописываем класс через который будет работать с базой\n",
    "class Neo4jConnection:\n",
    "    def __init__(self, uri, user, password):\n",
    "        self.driver = GraphDatabase.driver(uri, auth=(user, password))\n",
    "\n",
    "    def close(self):\n",
    "        if self.driver is not None:\n",
    "            self.driver.close()\n",
    "\n",
    "# Метод, который передает запрос в БД\n",
    "    def query(self, query, db=None):\n",
    "        assert self.driver is not None, \"Драйвер не инициализирован!\"\n",
    "        session = None\n",
    "        response = None\n",
    "        try:\n",
    "            session = self.driver.session(database=db) if db is not None else self.driver.session()\n",
    "            response = list(session.run(query))\n",
    "        except Exception as e:\n",
    "            print(\"Запрос не выполнен:\", e)\n",
    "        finally:\n",
    "            if session is not None:\n",
    "                session.close()\n",
    "        return 'Запрос выполнен' if len(response)==0 else response\n",
    "    \n",
    "# Метод полной отчистки переданой БД    \n",
    "    def cleaning_database(database):\n",
    "        result = conn.query(\"match (a) -[r] -> () delete a, r\", db=database)\n",
    "        result = conn.query(\"match (a) delete a\", db=database)\n",
    "        if len(result) == 0:\n",
    "            print(f\"{database} была полностью отчищена\")\n",
    "        else:\n",
    "            print(result)"
   ]
  },
  {
   "cell_type": "markdown",
   "id": "e4b4f1ae",
   "metadata": {},
   "source": [
    "Метод создания переданой БД\n",
    "\n",
    "```conn.query(\"CREATE OR REPLACE DATABASE testdb\")```\n",
    "\n",
    "\n",
    "Метод удаления переданой БД\n",
    "\n",
    "```conn.query(f\"DROP DATABASE {database}\")```"
   ]
  },
  {
   "cell_type": "code",
   "execution_count": 4,
   "id": "28100a0a",
   "metadata": {},
   "outputs": [
    {
     "data": {
      "text/plain": [
       "'Запрос выполнен'"
      ]
     },
     "execution_count": 4,
     "metadata": {},
     "output_type": "execute_result"
    }
   ],
   "source": [
    "# Загружаем пространство в котормо будем работать\n",
    "conn = Neo4jConnection(uri=\"bolt://localhost:7687\", user=\"sergey\", password=\"password\")\n",
    "\n",
    "\n",
    "# Создаем базу данных\n",
    "db = 'mydb'\n",
    "conn.query(f\"CREATE OR REPLACE DATABASE {db}\")"
   ]
  },
  {
   "cell_type": "code",
   "execution_count": 5,
   "id": "1426e49b",
   "metadata": {},
   "outputs": [
    {
     "data": {
      "text/plain": [
       "'Запрос выполнен'"
      ]
     },
     "execution_count": 5,
     "metadata": {},
     "output_type": "execute_result"
    }
   ],
   "source": [
    "query_string = '''CREATE (n:Person {name: 'Andy', title: 'Developer'});'''\n",
    "conn.query(query_string, db=db)\n"
   ]
  }
 ],
 "metadata": {
  "kernelspec": {
   "display_name": "Python 3 (ipykernel)",
   "language": "python",
   "name": "python3"
  },
  "language_info": {
   "codemirror_mode": {
    "name": "ipython",
    "version": 3
   },
   "file_extension": ".py",
   "mimetype": "text/x-python",
   "name": "python",
   "nbconvert_exporter": "python",
   "pygments_lexer": "ipython3",
   "version": "3.9.7"
  }
 },
 "nbformat": 4,
 "nbformat_minor": 5
}
